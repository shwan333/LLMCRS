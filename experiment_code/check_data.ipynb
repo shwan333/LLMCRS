{
 "cells": [
  {
   "cell_type": "code",
   "execution_count": 1,
   "metadata": {},
   "outputs": [
    {
     "name": "stdout",
     "output_type": "stream",
     "text": [
      "dir size: 13666\n"
     ]
    }
   ],
   "source": [
    "import os\n",
    "\n",
    "dir = \"/home/shchoi/iEvaLM-CRS/save_5/user_Llama-3.1-8B-Instruct/emb_nomic-ai/nomic-embed-text-v1/openmodel_Llama-3.2-1B-Instruct_top10_full_history/opendialkg_eval/full_non_repeated/dpo_train_data_temp1.0_sample_num8_top10_reward_func_topK10\"\n",
    "# dir = \"/home/shchoi/iEvaLM-CRS/save_5/user_Llama-3.1-8B-Instruct/emb_nomic-ai/nomic-embed-text-v1/openmodel_Llama-3.2-1B-Instruct_adapter_Llama-3.2-1B-Instruct-DPO-tuned-nomic-no-tuned_top10_full_history/opendialkg_eval/full_non_repeated/train\"\n",
    "# dir = \"/home/shchoi/iEvaLM-CRS/save_5/user_Llama-3.1-8B-Instruct/emb_nomic-ai/nomic-embed-text-v1/openmodel_Llama-3.2-1B-Instruct_top10_full_history/opendialkg_eval/full_non_repeated/dpo_train_data_temp1.0_sample_num8_top10_reward_func_topK10\"\n",
    "# dir = \"/home/shchoi/iEvaLM-CRS/save_5/user_Llama-3.1-8B-Instruct/emb_nomic-ai/nomic-embed-text-v1/openmodel_Llama-3.2-1B-Instruct_top10_full_history/opendialkg_eval/full_non_repeated/dpo_train_data_temp1.0_sample_num8_top10\"\n",
    "# dir = \"/home/shchoi/iEvaLM-CRS/save_5/user_Llama-3.1-8B-Instruct/emb_nomic-ai/nomic-embed-text-v1-tuned-total/openmodel_Llama-3.2-1B-Instruct_top10_full_history/opendialkg_eval/full_non_repeated/dpo_train_data_temp1.0_sample_num8_top10\"\n",
    "# dir = \"/home/shchoi/iEvaLM-CRS/save_5/user_Llama-3.1-8B-Instruct/emb_nomic-ai/nomic-embed-text-v1/openmodel_Llama-3.2-1B-Instruct_adapter_Llama-3.2-1B-Instruct-DPO-tuned-nomic-no-tuned_top10_full_history/opendialkg_eval/full_non_repeated/train\"\n",
    "# dir =\"/home/shchoi/iEvaLM-CRS/save_5/user_Llama-3.1-8B-Instruct/emb_nomic-ai/nomic-embed-text-v1/openmodel_Llama-3.2-1B-Instruct_adapter_Llama-3.2-1B-Instruct-DPO-tuned-nomic-no-tuned_top10_full_history/opendialkg_eval/full_non_repeated/train\"\n",
    "\n",
    "print(f'dir size: {len(os.listdir(dir))}')"
   ]
  },
  {
   "cell_type": "code",
   "execution_count": 2,
   "metadata": {},
   "outputs": [
    {
     "name": "stdout",
     "output_type": "stream",
     "text": [
      "dir size: 3560\n"
     ]
    }
   ],
   "source": [
    "\n",
    "train_set = set()\n",
    "for file in os.listdir(dir):\n",
    "    file = file.split('.')[0]\n",
    "    file = '_'.join(file.split('_')[:-1])\n",
    "    # file = '_'.join(file.split('_'))\n",
    "    train_set.add(file)\n",
    "\n",
    "print(f'dir size: {len(train_set)}')"
   ]
  }
 ],
 "metadata": {
  "kernelspec": {
   "display_name": "shchoi_CRS",
   "language": "python",
   "name": "python3"
  },
  "language_info": {
   "codemirror_mode": {
    "name": "ipython",
    "version": 3
   },
   "file_extension": ".py",
   "mimetype": "text/x-python",
   "name": "python",
   "nbconvert_exporter": "python",
   "pygments_lexer": "ipython3",
   "version": "3.11.11"
  }
 },
 "nbformat": 4,
 "nbformat_minor": 2
}
