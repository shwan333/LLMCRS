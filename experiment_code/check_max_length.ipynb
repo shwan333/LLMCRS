{
 "cells": [
  {
   "cell_type": "code",
   "execution_count": 9,
   "metadata": {},
   "outputs": [
    {
     "name": "stdout",
     "output_type": "stream",
     "text": [
      "max: 1072\n"
     ]
    }
   ],
   "source": [
    "import os\n",
    "\n",
    "import json\n",
    "import argparse\n",
    "from datasets import load_dataset, Dataset\n",
    "\n",
    "rec_model = \"unsloth-Llama-3.2-1B-Instruct\"\n",
    "temperature = 1.0\n",
    "sample_num = 16\n",
    "top_k = 50\n",
    "\n",
    "word_size_per_data = []\n",
    "\n",
    "save_dir = \"/home/work/shchoi/iEvaLM-CRS/save_5/user_Llama-3.1-8B-Instruct/emb_sentence-transformers/all-MiniLM-L6-v2-tuned-total/openmodel_Llama-3.2-1B-Instruct_top10_full_history/opendialkg_eval/full_non_repeated/test\" \n",
    "dialog_data_list = []\n",
    "for file in os.listdir(save_dir):\n",
    "    file_path = os.path.join(save_dir, file)\n",
    "    # print(file_path)\n",
    "    if os.path.isdir(file_path):\n",
    "        continue\n",
    "    dialog_data = json.load(open(file_path, 'r'))\n",
    "    total_context = ''\n",
    "    for turn in dialog_data['simulator_dialog']['context']:\n",
    "        total_context += turn['content']\n",
    "    \n",
    "    # tokenize total_context and calculate length of tokens\n",
    "    total_context = total_context.split()\n",
    "    word_size_per_data.append(len(total_context))\n",
    "\n",
    "print(f\"max: {max(word_size_per_data)}\")"
   ]
  },
  {
   "cell_type": "code",
   "execution_count": null,
   "metadata": {},
   "outputs": [],
   "source": [
    "# for element in train_dataset:\n",
    "#     chosen = element.get('chosen')\n",
    "#     rejected = element.get('rejected')\n",
    "#     print(f\"Chosen: {chosen}, Rejected: {rejected}\")\n",
    "\n",
    "print(\"error in chosen data\")\n",
    "print(\"====================================\")\n",
    "for element in train_dataset:\n",
    "    conversation = element['chosen']\n",
    "    prev_role = None\n",
    "    for idx, turn in enumerate(conversation):\n",
    "        if idx == 0:\n",
    "            prev_role = turn['role']\n",
    "        else:\n",
    "            if prev_role == turn['role']:\n",
    "                print(f\"file_name is {element['file_name']}\")\n",
    "                # print(f\"Error: Consecutive messages with the same role found in element {element}\")\n",
    "                break\n",
    "            prev_role = turn['role']\n",
    "\n",
    "print(\"\\n\\n\\nerror in rejected data\")\n",
    "print(\"====================================\")            \n",
    "for element in train_dataset:\n",
    "    conversation = element['rejected']\n",
    "    prev_role = None\n",
    "    for idx, turn in enumerate(conversation):\n",
    "        if idx == 0:\n",
    "            prev_role = turn['role']\n",
    "        else:\n",
    "            if prev_role == turn['role']:\n",
    "                print(f\"file_name is {element['file_name']}\")\n",
    "                # print(f\"Error: Consecutive messages with the same role found in element {element}\")\n",
    "                break\n",
    "            prev_role = turn['role']\n",
    "    \n",
    "        \n",
    "    \n",
    "    \n",
    "# def check_alternating_roles(train_dataset):\n",
    "#     for element in train_dataset:\n",
    "#         conversation = element['chosen']\n",
    "#         previous_role = None\n",
    "#         for message in conversation:\n",
    "#             current_role = message.get('role')\n",
    "#             if previous_role is not None:\n",
    "#                 if current_role == previous_role:\n",
    "#                     print(f\"Error: Consecutive messages with the same role found in element {element}\")\n",
    "#                     return False\n",
    "#             previous_role = current_role\n",
    "#     print(\"All conversations have alternating roles.\")\n",
    "#     return True\n",
    "\n",
    "# # Example usage\n",
    "# check_alternating_roles(train_dataset)"
   ]
  },
  {
   "cell_type": "code",
   "execution_count": null,
   "metadata": {},
   "outputs": [],
   "source": []
  }
 ],
 "metadata": {
  "kernelspec": {
   "display_name": "shchoi",
   "language": "python",
   "name": "python3"
  },
  "language_info": {
   "codemirror_mode": {
    "name": "ipython",
    "version": 3
   },
   "file_extension": ".py",
   "mimetype": "text/x-python",
   "name": "python",
   "nbconvert_exporter": "python",
   "pygments_lexer": "ipython3",
   "version": "3.10.0"
  }
 },
 "nbformat": 4,
 "nbformat_minor": 2
}
