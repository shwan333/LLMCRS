{
 "cells": [
  {
   "cell_type": "code",
   "execution_count": 1,
   "metadata": {},
   "outputs": [
    {
     "name": "stdout",
     "output_type": "stream",
     "text": [
      "The number of results: 3560\n",
      "2144\n"
     ]
    }
   ],
   "source": [
    "import glob, json\n",
    "import os\n",
    "\n",
    "root_dir = os.path.dirname(os.getcwd())\n",
    "\n",
    "with open(f\"{root_dir}/data/opendialkg/entity2id.json\", 'r', encoding=\"utf-8\") as f:\n",
    "    entity2id = json.load(f)\n",
    "\n",
    "def get_result(sample_result_path):\n",
    "    sample_result = json.load(open(sample_result_path))\n",
    "    dialog = sample_result['simulator_dialog']['context']\n",
    "    rec_label = sample_result['rec']\n",
    "    prev_turn_num = sample_result['turn_id']\n",
    "    length = len(dialog)\n",
    "    rec_success_rec_eval = False\n",
    "    \n",
    "    # dialog = sample_result['simulator_dialog']\n",
    "    for idx, turn in enumerate(dialog[::-1]):\n",
    "        if 'rec_success' in turn:\n",
    "            rec_success = turn['rec_success']\n",
    "            rec_labels = [entity2id[rec] for rec in rec_label if rec in entity2id]\n",
    "            rec_items = turn['rec_items']\n",
    "            \n",
    "            for rec_label in rec_labels:\n",
    "                if rec_label in rec_items:\n",
    "                    rec_success_rec_eval = True\n",
    "                    break \n",
    "                \n",
    "            if rec_success != rec_success_rec_eval:\n",
    "                print(sample_result_path)\n",
    "            \n",
    "            return rec_success, length, prev_turn_num, idx\n",
    "    \n",
    "folder_path = \"/home/work/shchoi/iEvaLM-CRS/save_5/user_Llama-3.1-8B-Instruct/emb_sentence-transformers/all-MiniLM-L6-v2/openmodel_Llama-3.2-1B-Instruct_top10_full_history/opendialkg_eval/full_non_repeated/train\"\n",
    "results_path = glob.glob(folder_path + '/*.json')\n",
    "print(f'The number of results: {len(results_path)}')\n",
    "\n",
    "rec_success_list = []\n",
    "for result_path in results_path:\n",
    "    # print(result_path)\n",
    "    rec_success, length, prev_turn_num, idx = get_result(result_path)\n",
    "    if rec_success:\n",
    "        additional_turn = (length - prev_turn_num) // 2\n",
    "        rec_success_list.append(additional_turn)\n",
    "print(len(rec_success_list))\n",
    "\n",
    "rec_success_dict = {\n",
    "    \"1\": 0,\n",
    "    \"2\": 0,\n",
    "    \"3\": 0,\n",
    "    \"4\": 0,\n",
    "    \"5\": 0,\n",
    "}\n",
    "\n",
    "for rec_success in rec_success_list:\n",
    "    if rec_success == 1:\n",
    "        rec_success_dict[\"1\"] += 1\n",
    "    elif rec_success == 2:\n",
    "        rec_success_dict[\"2\"] += 1\n",
    "    elif rec_success == 3:\n",
    "        rec_success_dict[\"3\"] += 1\n",
    "    elif rec_success == 4:\n",
    "        rec_success_dict[\"4\"] += 1\n",
    "    elif rec_success == 5:\n",
    "        rec_success_dict[\"5\"] += 1\n",
    "\n",
    "# for rec_success in rec_success_list:\n",
    "#     if rec_success == 1:\n",
    "#         rec_success_dict[\"1\"] += 1\n",
    "#         rec_success_dict[\"2\"] += 1\n",
    "#         rec_success_dict[\"3\"] += 1\n",
    "#         rec_success_dict[\"4\"] += 1\n",
    "#         rec_success_dict[\"5\"] += 1\n",
    "#     elif rec_success == 2:\n",
    "#         rec_success_dict[\"2\"] += 1\n",
    "#         rec_success_dict[\"3\"] += 1\n",
    "#         rec_success_dict[\"4\"] += 1\n",
    "#         rec_success_dict[\"5\"] += 1\n",
    "#     elif rec_success == 3:\n",
    "#         rec_success_dict[\"3\"] += 1\n",
    "#         rec_success_dict[\"4\"] += 1\n",
    "#         rec_success_dict[\"5\"] += 1\n",
    "#     elif rec_success == 4:\n",
    "#         rec_success_dict[\"4\"] += 1\n",
    "#         rec_success_dict[\"5\"] += 1\n",
    "#     elif rec_success == 5:\n",
    "#         rec_success_dict[\"5\"] += 1\n",
    "        \n",
    "for key, value in rec_success_dict.items():\n",
    "    rec_success_dict[key] = value / len(results_path)"
   ]
  },
  {
   "cell_type": "code",
   "execution_count": null,
   "metadata": {},
   "outputs": [
    {
     "data": {
      "image/png": "[encoded data removed]",
      "text/plain": [
       "<Figure size 640x480 with 1 Axes>"
      ]
     },
     "metadata": {},
     "output_type": "display_data"
    }
   ],
   "source": [
    "# visualize the rec_success_dict\n",
    "import matplotlib.pyplot as plt\n",
    "\n",
    "x = rec_success_dict.keys()\n",
    "x = [int(key) - 1 for key in x]\n",
    "\n",
    "bars = plt.bar(x, rec_success_dict.values(), width=0.5,)\n",
    "plt.ylabel(' Recall@10')\n",
    "plt.yticks([0.05 * idx for idx in range(8)])\n",
    "plt.xlabel('Number of additional turns')\n",
    "plt.title(' Recall@10 at each additional turn')\n",
    "\n",
    "plt.show()\n",
    "\n",
    "\n",
    "\n",
    "\n"
   ]
  }
 ],
 "metadata": {
  "kernelspec": {
   "display_name": "shchoi",
   "language": "python",
   "name": "python3"
  },
  "language_info": {
   "codemirror_mode": {
    "name": "ipython",
    "version": 3
   },
   "file_extension": ".py",
   "mimetype": "text/x-python",
   "name": "python",
   "nbconvert_exporter": "python",
   "pygments_lexer": "ipython3",
   "version": "3.10.0"
  }
 },
 "nbformat": 4,
 "nbformat_minor": 2
}
