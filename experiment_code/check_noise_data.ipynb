{
 "cells": [
  {
   "cell_type": "code",
   "execution_count": 8,
   "metadata": {},
   "outputs": [],
   "source": [
    "import os\n",
    "import json\n",
    "\n",
    "test_dir = \"/home/shchoi/iEvaLM-CRS/save_5/user_Llama-3.1-8B-Instruct/emb_nomic-ai/nomic-embed-text-v1-tuned-total/openmodel_Llama-3.2-1B-Instruct_adapter_Llama-3.2-1B-Instruct-DPO-tuned-new-reward_top10_full_history/opendialkg_eval/full_non_repeated/test\"\n",
    "train_dir = \"/home/shchoi/iEvaLM-CRS/save_5/user_Llama-3.1-8B-Instruct/emb_nomic-ai/nomic-embed-text-v1-tuned-total/openmodel_Llama-3.2-1B-Instruct_adapter_Llama-3.2-1B-Instruct-DPO-tuned-new-reward_top10_full_history/opendialkg_eval/full_non_repeated/weird_result_!!!!!/train\"\n",
    "new_test_dir = \"/home/shchoi/iEvaLM-CRS/save_5/user_Llama-3.1-8B-Instruct/emb_nomic-ai/nomic-embed-text-v1-after-tuned/openmodel_Llama-3.2-1B-Instruct_adapter_Llama-3.2-1B-Instruct-DPO-tuned-nomic-no-tuned_top10_full_history/opendialkg_eval/full_non_repeated/test\""
   ]
  },
  {
   "cell_type": "code",
   "execution_count": 9,
   "metadata": {},
   "outputs": [
    {
     "name": "stdout",
     "output_type": "stream",
     "text": [
      "total data size: 3560, noise data size: 3560\n",
      "noise data ratio: 100.00\n"
     ]
    }
   ],
   "source": [
    "noise_sub_utterance = \"!!!\"\n",
    "cnt = 0 \n",
    "target_dir = train_dir\n",
    "for file in os.listdir(target_dir):\n",
    "    file = f'{target_dir}/{file}'\n",
    "    dialog_data = json.load(open(file, 'r'))\n",
    "    dialog_utter_collection = ''\n",
    "    for uttr in dialog_data['simulator_dialog']['context']:\n",
    "        dialog_utter_collection += uttr['content']\n",
    "    if noise_sub_utterance in dialog_utter_collection:\n",
    "        # print(dialog_utter_collection)\n",
    "        cnt += 1\n",
    "\n",
    "print(f'total data size: {len(os.listdir(target_dir))}, noise data size: {cnt}')\n",
    "print(f'noise data ratio: {((cnt/len(os.listdir(target_dir)))*100):.2f}')"
   ]
  }
 ],
 "metadata": {
  "kernelspec": {
   "display_name": "shchoi_CRS",
   "language": "python",
   "name": "python3"
  },
  "language_info": {
   "codemirror_mode": {
    "name": "ipython",
    "version": 3
   },
   "file_extension": ".py",
   "mimetype": "text/x-python",
   "name": "python",
   "nbconvert_exporter": "python",
   "pygments_lexer": "ipython3",
   "version": "3.11.11"
  }
 },
 "nbformat": 4,
 "nbformat_minor": 2
}
