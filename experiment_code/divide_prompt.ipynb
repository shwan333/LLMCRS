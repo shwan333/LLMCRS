{
 "cells": [
  {
   "cell_type": "code",
   "execution_count": 1,
   "metadata": {},
   "outputs": [
    {
     "name": "stderr",
     "output_type": "stream",
     "text": [
      "/home/work/conda/anaconda3/envs/shchoi/lib/python3.10/site-packages/tqdm/auto.py:21: TqdmWarning: IProgress not found. Please update jupyter and ipywidgets. See https://ipywidgets.readthedocs.io/en/stable/user_install.html\n",
      "  from .autonotebook import tqdm as notebook_tqdm\n",
      "100%|██████████| 13629/13629 [00:42<00:00, 319.51it/s]\n"
     ]
    }
   ],
   "source": [
    "import os\n",
    "from tqdm import tqdm\n",
    "import json\n",
    "import argparse\n",
    "from datasets import load_dataset, Dataset\n",
    "\n",
    "rec_model = \"unsloth-Llama-3.2-1B-Instruct\"\n",
    "temperature = 1.0\n",
    "sample_num = 16\n",
    "top_k = 50\n",
    "\n",
    "save_dir = \"/home/work/shchoi/iEvaLM-CRS/save_5/user_Llama-3.1-8B-Instruct/emb_sentence-transformers/all-MiniLM-L6-v2-tuned-total/openmodel_Llama-3.2-1B-Instruct_top10_full_history/opendialkg_eval/full_non_repeated/dpo_train_data_temp1.2_sample_num8_top10\" \n",
    "new_data = save_dir + \"/new\"\n",
    "os.makedirs(new_data, exist_ok=True)\n",
    "dialog_data_list = []\n",
    "for file in tqdm(os.listdir(save_dir)):\n",
    "    file_name = file.split(\"/\")[-1]\n",
    "    file_path = os.path.join(save_dir, file)\n",
    "    if os.path.isdir(file_path):\n",
    "        continue\n",
    "    dialog_data = json.load(open(file_path, 'r'))\n",
    "    assert dialog_data['chosen'][:-2]  == dialog_data['rejected'][:-2]\n",
    "    dialog_data['prompt'] = dialog_data['chosen'][:-2]\n",
    "    new_file_path = os.path.join(new_data, file_name)\n",
    "    with open(new_file_path, 'w') as f:\n",
    "        json.dump(dialog_data, f)\n",
    "    "
   ]
  },
  {
   "cell_type": "code",
   "execution_count": null,
   "metadata": {},
   "outputs": [],
   "source": []
  },
  {
   "cell_type": "code",
   "execution_count": null,
   "metadata": {},
   "outputs": [],
   "source": []
  }
 ],
 "metadata": {
  "kernelspec": {
   "display_name": "shchoi",
   "language": "python",
   "name": "python3"
  },
  "language_info": {
   "codemirror_mode": {
    "name": "ipython",
    "version": 3
   },
   "file_extension": ".py",
   "mimetype": "text/x-python",
   "name": "python",
   "nbconvert_exporter": "python",
   "pygments_lexer": "ipython3",
   "version": "3.10.0"
  }
 },
 "nbformat": 4,
 "nbformat_minor": 2
}
