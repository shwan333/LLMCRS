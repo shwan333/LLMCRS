{
 "cells": [
  {
   "cell_type": "code",
   "execution_count": 6,
   "metadata": {},
   "outputs": [
    {
     "name": "stdout",
     "output_type": "stream",
     "text": [
      "The number of results: 789\n"
     ]
    }
   ],
   "source": [
    "import glob, json\n",
    "\n",
    "with open(f\"./data/opendialkg/entity2id.json\", 'r', encoding=\"utf-8\") as f:\n",
    "    entity2id = json.load(f)\n",
    "\n",
    "def get_user_preference(sample_result_path):\n",
    "    sample_result = json.load(open(sample_result_path))\n",
    "    dialog = sample_result['simulator_dialog']['context']\n",
    "    rec_label = sample_result['rec']\n",
    "    orig_user_uttrs = ''\n",
    "    extened_user_uttrs = ''\n",
    "    for uttr in dialog:\n",
    "        if 'rec_success' in uttr: \n",
    "            break\n",
    "        if uttr['role'] == 'user':\n",
    "            user_uttr = uttr['content']\n",
    "            orig_user_uttrs += user_uttr\n",
    "    \n",
    "    for uttr in dialog:\n",
    "        extened_user_uttrs += uttr['content']\n",
    "        \n",
    "    return orig_user_uttrs, extened_user_uttrs\n",
    "        \n",
    "folder_path = \"/home/work/shchoi/iEvaLM-CRS/save_5/user_Llama-3.1-8B-Instruct/emb_Snowflake/snowflake-arctic-embed-s/openmodel_Llama-3.2-1B-Instruct_top10_full_history/opendialkg_eval/full_non_repeated/test\"\n",
    "results_path = glob.glob(folder_path + '/*.json')\n",
    "print(f'The number of results: {len(results_path)}')\n",
    "\n",
    "orig_user_uttrs_list = []\n",
    "extened_user_uttrs_list = []\n",
    "for result_path in results_path:\n",
    "    orig_user_uttrs, extended_user_uttrs = get_user_preference(result_path)\n",
    "    orig_user_uttrs_list.append(orig_user_uttrs)\n",
    "    extened_user_uttrs_list.append(extended_user_uttrs)"
   ]
  },
  {
   "cell_type": "code",
   "execution_count": 8,
   "metadata": {},
   "outputs": [
    {
     "name": "stdout",
     "output_type": "stream",
     "text": [
      "Ngram: 2\n",
      "Original: mean:19.309252217997464; std:15.127065133958272\n",
      "Extended: mean:369.3092522179975; std:104.78668531528216\n",
      "Ngram: 3\n",
      "Original: mean:18.65272496831432; std:15.800984943329885\n",
      "Extended: mean:440.4942965779468; std:135.55337432083616\n",
      "Ngram: 4\n",
      "Original: mean:17.7617237008872; std:15.998937308291069\n",
      "Extended: mean:477.8998732572877; std:151.8741425995197\n"
     ]
    }
   ],
   "source": [
    "import nltk, statistics\n",
    "from nltk import ngrams\n",
    "from collections import Counter\n",
    "\n",
    "def calculate_ngram_specificity(text, n):\n",
    "    # Tokenize the text\n",
    "    tokens = nltk.word_tokenize(text.lower())\n",
    "    \n",
    "    # Generate n-grams\n",
    "    n_grams = list(ngrams(tokens, n))\n",
    "    \n",
    "    # Count the occurrences of each n-gram\n",
    "    ngram_counts = Counter(n_grams)\n",
    "    \n",
    "    # Calculate the total number of n-grams\n",
    "    total_ngrams = len(n_grams)\n",
    "    \n",
    "    # Calculate specificity for each n-gram\n",
    "    specificity = {gram: count / total_ngrams for gram, count in ngram_counts.items()}\n",
    "    \n",
    "    # how to calculate the the number of unique n-grams\n",
    "    num_unique_ngrams = len(ngram_counts)\n",
    "    \n",
    "    return num_unique_ngrams\n",
    "\n",
    "for n in range(2, 5):\n",
    "    orig_Ngram_specificity = []\n",
    "    extened_Ngram_specificity = []\n",
    "    for orig_user_uttrs, extended_user_uttrs in zip(orig_user_uttrs_list, extened_user_uttrs_list):\n",
    "        orig_Ngram_specificity.append(calculate_ngram_specificity(orig_user_uttrs, n))\n",
    "        extened_Ngram_specificity.append(calculate_ngram_specificity(extended_user_uttrs, n))\n",
    "    print(f'Ngram: {n}')\n",
    "    print(f'Original: mean:{statistics.mean(orig_Ngram_specificity)}; std:{statistics.stdev(orig_Ngram_specificity)}')\n",
    "    print(f'Extended: mean:{statistics.mean(extened_Ngram_specificity)}; std:{statistics.stdev(extened_Ngram_specificity)}')    \n",
    "    # print(statistics.mean)\n",
    "    "
   ]
  },
  {
   "cell_type": "code",
   "execution_count": null,
   "metadata": {},
   "outputs": [],
   "source": []
  }
 ],
 "metadata": {
  "kernelspec": {
   "display_name": "shchoi",
   "language": "python",
   "name": "python3"
  },
  "language_info": {
   "codemirror_mode": {
    "name": "ipython",
    "version": 3
   },
   "file_extension": ".py",
   "mimetype": "text/x-python",
   "name": "python",
   "nbconvert_exporter": "python",
   "pygments_lexer": "ipython3",
   "version": "3.10.0"
  }
 },
 "nbformat": 4,
 "nbformat_minor": 2
}
